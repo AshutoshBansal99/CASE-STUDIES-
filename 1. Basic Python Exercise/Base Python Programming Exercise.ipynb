{
 "cells": [
  {
   "cell_type": "markdown",
   "metadata": {},
   "source": [
    "## Python Basic Programming Exercises"
   ]
  },
  {
   "cell_type": "raw",
   "metadata": {},
   "source": [
    "Q1: What is the output of following expression\n",
    "    5 + 4 * 9 % (3 + 1) / 6 - 1"
   ]
  },
  {
   "cell_type": "code",
   "execution_count": 1,
   "metadata": {},
   "outputs": [
    {
     "name": "stdout",
     "output_type": "stream",
     "text": [
      "4.0\n"
     ]
    }
   ],
   "source": [
    "Result = float(    5 + 4 * 9 % (3 + 1) / 6 - 1 )\n",
    "print(Result)"
   ]
  },
  {
   "cell_type": "raw",
   "metadata": {},
   "source": [
    "Q2: Write a program to check if a Number is Odd or Even. Take number as a input from user at runtime."
   ]
  },
  {
   "cell_type": "code",
   "execution_count": 2,
   "metadata": {},
   "outputs": [
    {
     "name": "stdin",
     "output_type": "stream",
     "text": [
      "Enter the NUmber to Check !! 12\n"
     ]
    },
    {
     "data": {
      "text/plain": [
       "'The Number = 12 Is EVEN'"
      ]
     },
     "execution_count": 2,
     "metadata": {},
     "output_type": "execute_result"
    }
   ],
   "source": [
    "Num = int(input(\"Enter the NUmber to Check !!\") )\n",
    "f'The Number = {Num} Is EVEN' if Num%2 == 0 else f'The Number = {Num} Is ODD'\n",
    "    "
   ]
  },
  {
   "cell_type": "raw",
   "metadata": {},
   "source": [
    "Q3: Write a program to display the multiplication table by taking a number as input. \n",
    "    [Hint : Use print statement inside of a loop]"
   ]
  },
  {
   "cell_type": "code",
   "execution_count": 3,
   "metadata": {},
   "outputs": [
    {
     "name": "stdin",
     "output_type": "stream",
     "text": [
      "Enter the NUmber  12\n"
     ]
    },
    {
     "name": "stdout",
     "output_type": "stream",
     "text": [
      "12 * 1 = 12\n",
      "12 * 2 = 24\n",
      "12 * 3 = 36\n",
      "12 * 4 = 48\n",
      "12 * 5 = 60\n",
      "12 * 6 = 72\n",
      "12 * 7 = 84\n",
      "12 * 8 = 96\n",
      "12 * 9 = 108\n",
      "12 * 10 = 120\n"
     ]
    }
   ],
   "source": [
    "num = int(input(\"Enter the NUmber \") )\n",
    "for i in range (1,11):\n",
    "    result = num * i\n",
    "    print(f\"{num} * {i} = {result}\")"
   ]
  },
  {
   "cell_type": "raw",
   "metadata": {},
   "source": [
    "Q4: Write a program which will find all numbers between 2000 and 3200 which are divisible by 7 \n",
    "    but are not a multiple of 5.\n",
    " \n",
    "Note: The numbers obtained should be printed in a comma-separated sequence on a single line."
   ]
  },
  {
   "cell_type": "code",
   "execution_count": 4,
   "metadata": {},
   "outputs": [
    {
     "name": "stdout",
     "output_type": "stream",
     "text": [
      "All numbers between 2000 and 3200 which are divisible by 7 but are not a multiple of 5 are : \n",
      "2002,2009,2016,2023,2037,2044,2051,2058,2072,2079,2086,2093,2107,2114,2121,2128,2142,2149,2156,2163,2177,2184,2191,2198,2212,2219,2226,2233,2247,2254,2261,2268,2282,2289,2296,2303,2317,2324,2331,2338,2352,2359,2366,2373,2387,2394,2401,2408,2422,2429,2436,2443,2457,2464,2471,2478,2492,2499,2506,2513,2527,2534,2541,2548,2562,2569,2576,2583,2597,2604,2611,2618,2632,2639,2646,2653,2667,2674,2681,2688,2702,2709,2716,2723,2737,2744,2751,2758,2772,2779,2786,2793,2807,2814,2821,2828,2842,2849,2856,2863,2877,2884,2891,2898,2912,2919,2926,2933,2947,2954,2961,2968,2982,2989,2996,3003,3017,3024,3031,3038,3052,3059,3066,3073,3087,3094,3101,3108,3122,3129,3136,3143,3157,3164,3171,3178,3192,3199,"
     ]
    }
   ],
   "source": [
    " print(\"All numbers between 2000 and 3200 which are divisible by 7 but are not a multiple of 5 are : \")\n",
    "for i in range (2000,3201):\n",
    "    if i%7 == 0 and i%5 != 0:\n",
    "        print(i,end=',')"
   ]
  },
  {
   "cell_type": "raw",
   "metadata": {},
   "source": [
    "Q5: Count the elements of each datatype inside the list and display in output\n",
    "    [2, 3, 'Py', '10', 1, 'SQL', 5.5, True, 3, 'John', None, 7]    "
   ]
  },
  {
   "cell_type": "code",
   "execution_count": 5,
   "metadata": {},
   "outputs": [
    {
     "name": "stdout",
     "output_type": "stream",
     "text": [
      "count of int = 5, count of float = 1, count of string = 4 , count of the None =1,  count of the bool= 1\n"
     ]
    }
   ],
   "source": [
    "st_r = floa_t = b_ool =i_nt = N_one = 0\n",
    "for i in [2, 3, 'Py', '10', 1, 'SQL', 5.5, True, 3, 'John', None, 7] :\n",
    "    #isinstance is use to check the data type of the value.\n",
    "    if   isinstance( i,str): st_r +=1\n",
    "    elif isinstance( i,bool): b_ool += 1\n",
    "    elif isinstance( i,int): i_nt += 1\n",
    "    elif isinstance( i,float): floa_t +=1\n",
    "    elif i is None: N_one += 1\n",
    "    \n",
    "\n",
    "print(f\"count of int = {i_nt}, count of float = {floa_t}, count of string = {st_r} , count of the None ={N_one},  count of the bool= {b_ool}\")\n"
   ]
  },
  {
   "cell_type": "raw",
   "metadata": {},
   "source": [
    "Q6: Add all values from the list with numeric datatypes \n",
    "    [2, 3, 'Py', '10', 1, 'SQL', 5.5, True, 3, 'John', None, 7] "
   ]
  },
  {
   "cell_type": "code",
   "execution_count": 6,
   "metadata": {},
   "outputs": [
    {
     "name": "stdout",
     "output_type": "stream",
     "text": [
      "16\n"
     ]
    }
   ],
   "source": [
    "ans =0\n",
    "for i in [2, 3, 'Py', '10', 1, 'SQL', 5.5, True, 3, 'John', None, 7] :\n",
    "   # if isinstance( i , int): can work but in this case showing wrong ans as it consider the bool as 1 \n",
    "    if type(i)== int:\n",
    "        ans += i\n",
    "print(ans)\n"
   ]
  },
  {
   "cell_type": "raw",
   "metadata": {},
   "source": [
    "Q7: Concat all str datatypes with hyphen as a delimiter\n",
    "    [2, 3, 'Py', '10', 1, 'SQL', 5.5, True, 3, 'John', None, 7] "
   ]
  },
  {
   "cell_type": "code",
   "execution_count": 7,
   "metadata": {},
   "outputs": [
    {
     "name": "stdout",
     "output_type": "stream",
     "text": [
      "Py-10-SQL-John-"
     ]
    }
   ],
   "source": [
    "for i in [2, 3, 'Py', '10', 1, 'SQL', 5.5, True, 3, 'John', None, 7] :\n",
    "   if isinstance( i , str):\n",
    "    print(i ,end= '-')\n"
   ]
  },
  {
   "cell_type": "raw",
   "metadata": {},
   "source": [
    "Q8: Write a UDF that takes list as input and returns sum of all numbers \n",
    "    (exclude bool) and count of all str \n",
    "    [2, 3, 'Py', '10', 1, 'SQL', 5.5, True, 3, 'John', None, 7] \n",
    "    \n",
    "Hint:\n",
    "-----\n",
    "def my_func:\n",
    "    # your code\n",
    "        \n",
    "my_func(l1)\n",
    "# output --> {'Sum': xxx, 'Count_of_Strs': xxx}"
   ]
  },
  {
   "cell_type": "code",
   "execution_count": 8,
   "metadata": {},
   "outputs": [
    {
     "name": "stdout",
     "output_type": "stream",
     "text": [
      "{'Sum': 16, 'Count_of_Strs': 4}\n"
     ]
    }
   ],
   "source": [
    "#user define function\n",
    "def my_func(arg):\n",
    "    Sum_int = count_of_strs = 0\n",
    "    for i in arg:\n",
    "        if type(i) == int : Sum_int += i # adding the integer  from the list  by cheking its type by type() fun as it dose't concider bool as int \n",
    "        elif isinstance(i, str): count_of_strs += 1  # checking the list value is str or not by using isinstance an counting the str\n",
    "    return {'Sum':Sum_int, 'Count_of_Strs': count_of_strs} \n",
    "\n",
    "#function calling\n",
    "l1 = [2, 3, 'Py', '10', 1, 'SQL', 5.5, True, 3, 'John', None, 7] \n",
    "print(my_func(l1))\n"
   ]
  },
  {
   "cell_type": "raw",
   "metadata": {},
   "source": [
    "Q9: Get only odd numbers from the following list and store the numbers in new list\n",
    "    li = [5, 7, 22, 97, 54, 62, 77, 23, 73, 61]\n",
    "\n",
    "    i. Use loops to get the answer\n",
    "   ii. Use list comprehensions\n",
    "  iii. Use lambda function with filter"
   ]
  },
  {
   "cell_type": "code",
   "execution_count": 9,
   "metadata": {},
   "outputs": [
    {
     "name": "stdout",
     "output_type": "stream",
     "text": [
      "list_1 : [5, 7, 97, 77, 23, 73, 61]\n",
      "list_2 : [5, 7, 97, 77, 23, 73, 61]\n",
      "list_3 : [5, 7, 97, 77, 23, 73, 61]\n"
     ]
    }
   ],
   "source": [
    "li = [5, 7, 22, 97, 54, 62, 77, 23, 73, 61]\n",
    "list_1=[]\n",
    "#  i. Use loops to get the answer\n",
    "for i in li:\n",
    "    if i % 2 != 0 :\n",
    "        list_1.append(i) \n",
    "print('list_1 :',list_1)\n",
    "\n",
    "#  ii. Use list comprehensions\n",
    "list_2 =[ i%2!=0 for i  in li ] # creates a list of boolean values indicating whether each element in li is odd or not.\n",
    "list_2 = [i for i in li if i%2!=0] # in this list comprihention is iteration in list using i and creates a list containing only the odd numbers themselves.\n",
    "print('list_2 :',list_2)\n",
    "\n",
    "#  iii. Use lambda function with filter\n",
    "list_3 = list(filter(lambda  i: i%2!=0, li )) ## Filter odd numbers from the list li and store them in list_3\n",
    "print('list_3 :',list_3)"
   ]
  },
  {
   "cell_type": "raw",
   "metadata": {},
   "source": [
    "Q10: Write a UDF to return the descriptives [sum, count, min, mean, max] for a list of n number of input \n",
    "    numbers."
   ]
  },
  {
   "cell_type": "code",
   "execution_count": 11,
   "metadata": {},
   "outputs": [
    {
     "name": "stdin",
     "output_type": "stream",
     "text": [
      "Enter the values separated by spaces:  1 2 3  4 5 6 \n"
     ]
    },
    {
     "name": "stdout",
     "output_type": "stream",
     "text": [
      "Sum: 21\n",
      "Count: 6\n",
      "Minimum: 1\n",
      "Mean: 3.5\n",
      "Maximum: 6\n"
     ]
    }
   ],
   "source": [
    "# User define function.\n",
    "def func_list(*args):\n",
    "    num_sum = sum(args)\n",
    "    num_count = len(args)  # Count the number of elements using len() as count() is not working\n",
    "    num_min = min(args)\n",
    "    num_mean = sum(args) / num_count  # Calculate mean by summing and dividing by count as mean() is not working\n",
    "    num_max = max(args)\n",
    "    return num_sum, num_count, num_min, num_mean, num_max\n",
    "\n",
    "# To Get user input as a list of numbers\n",
    "value_input = [int(x) for x in input('Enter the values separated by spaces: ').split()]\n",
    "\n",
    "# Calling the function with the unpacked list of values\n",
    "result = func_list(*value_input)\n",
    "\n",
    "# printing the result.\n",
    "print(\"Sum:\", result[0])\n",
    "print(\"Count:\", result[1])\n",
    "print(\"Minimum:\", result[2])\n",
    "print(\"Mean:\", result[3])\n",
    "print(\"Maximum:\", result[4])\n",
    "\n",
    "\n"
   ]
  },
  {
   "cell_type": "raw",
   "metadata": {},
   "source": [
    "Q11: Write an udf to calculate the area of different shapes\n",
    "\n",
    "Take shape and dimensions as arguments to udf as follows : \n",
    "\n",
    "1. square which has side\n",
    "2. rectangle which has length and width\n",
    "3. circle which has radius\n",
    "\n",
    "The shape should be a positional argument and it's dimensions are taken as kwargs\n",
    "\n",
    "Perform proper validation for the user inputs and then calculate area.\n",
    "\n",
    "E.g. if shape is square, ensure kwargs has \"side\" and if so, then you may return the area, else display appropriate error message like \"Please enter 'side' for a square\""
   ]
  },
  {
   "cell_type": "code",
   "execution_count": 12,
   "metadata": {},
   "outputs": [
    {
     "name": "stdin",
     "output_type": "stream",
     "text": [
      "Enter the shape (square, rectangle, or circle):  rectangle\n",
      "Enter the length:  12\n",
      "Enter the breadth:  43\n"
     ]
    },
    {
     "name": "stdout",
     "output_type": "stream",
     "text": [
      "The area is: 516.0\n"
     ]
    }
   ],
   "source": [
    "# I have created the dinamic user define function to calculate the are of the diffrent shapes using kwargs.\n",
    "# This user define function (UDF) calculate the area of the shape that is given\n",
    "def shape_area(shape ,**kwargs):\n",
    "    if shape == 'square' :\n",
    "        area = kwargs['side']**2\n",
    "    elif shape == 'rectangle':\n",
    "        area = kwargs['length'] * kwargs['breadth'] \n",
    "    elif shape == 'circle':\n",
    "        area = 3.14 * kwargs['radius']**2\n",
    "    else :\n",
    "         print(\"Invalid shape entered!\")\n",
    "         return None\n",
    "    return area\n",
    "#here i have created the another user define function to take data from the user realated to the shape an its dimension.\n",
    "def get_dimension ():\n",
    "    shape = input(\"Enter the shape (square, rectangle, or circle): \")\n",
    "    if shape == 'square':\n",
    "        side = float(input(\"Enter the side length: \"))\n",
    "        return shape, {'side': side}\n",
    "    elif shape == 'rectangle':\n",
    "        length = float(input(\"Enter the length: \"))\n",
    "        breadth = float(input(\"Enter the breadth: \"))\n",
    "        return shape, { 'length': length, 'breadth': breadth}\n",
    "    elif shape == 'circle':\n",
    "        radius = float(input(\"Enter the radius: \"))\n",
    "        return shape, {'radius': radius}\n",
    "    else:\n",
    "        print(\"Invalid shape entered!\")\n",
    "        return None, None\n",
    "#heare i have maped the shape and there imention to calculate the area of the provide shape according to the deimantion given \n",
    "def calculate_area():\n",
    "    shape, dimension  = get_dimension()\n",
    "    if dimension != None:\n",
    "        area = shape_area(shape, **dimension)\n",
    "        print(\"The area is:\", area)\n",
    "\n",
    "calculate_area()"
   ]
  },
  {
   "cell_type": "raw",
   "metadata": {},
   "source": [
    "Q12: Write a UDF to reconcile the values within two lists.\n",
    "    l1 = ['January', 'February', 'March', 'May', 'June', 'September', 'December']\n",
    "    l2 = ['January', 'February', 'April', 'June', 'October', 'December']\n",
    "\n",
    "Hint:\n",
    "-----\n",
    "def func(l1, l2):\n",
    "    your code here...\n",
    "    \n",
    "Output:\n",
    "{'Matched': ['January', 'February', 'June', 'December'],\n",
    "    'Only in l1': ['March', 'May', 'September'],\n",
    "        'Only in l2': ['April', 'October']}"
   ]
  },
  {
   "cell_type": "code",
   "execution_count": 13,
   "metadata": {},
   "outputs": [
    {
     "data": {
      "text/plain": [
       "{'Matched': ['January', 'February', 'June', 'December'],\n",
       " ' only_in_l1': ['March', 'May', 'September'],\n",
       " ' only_in_l2': ['April', 'October']}"
      ]
     },
     "execution_count": 13,
     "metadata": {},
     "output_type": "execute_result"
    }
   ],
   "source": [
    "def reconcile(l1,l2):\n",
    "    # Checking for the match\n",
    "    matched =    [item for item in l1 if item in l2]\n",
    "    only_in_l1 = [item for item in l1 if item not in l2]\n",
    "    only_in_l2 = [item for item in l2 if item not in l1]\n",
    "    #creating dictionary\n",
    "    result = { \"Matched\": matched, \n",
    "              \" only_in_l1\": only_in_l1,\n",
    "              \" only_in_l2\": only_in_l2\n",
    "             }\n",
    "    return  result\n",
    "\n",
    "l1 = ['January', 'February', 'March', 'May', 'June', 'September', 'December']\n",
    "l2 = ['January', 'February', 'April', 'June', 'October', 'December']\n",
    "\n",
    "reconcile(l1,l2)"
   ]
  },
  {
   "cell_type": "raw",
   "metadata": {
    "collapsed": true,
    "jupyter": {
     "outputs_hidden": true
    }
   },
   "source": [
    "Q13: write a UDF to check if a number is prime or not."
   ]
  },
  {
   "cell_type": "code",
   "execution_count": 16,
   "metadata": {},
   "outputs": [
    {
     "name": "stdin",
     "output_type": "stream",
     "text": [
      "Enter the value to check if it is prime or not. . . . . .  12\n"
     ]
    },
    {
     "name": "stdout",
     "output_type": "stream",
     "text": [
      "Not a Prime Number\n"
     ]
    },
    {
     "data": {
      "text/plain": [
       "False"
      ]
     },
     "execution_count": 16,
     "metadata": {},
     "output_type": "execute_result"
    }
   ],
   "source": [
    "def prime_or_not(num):\n",
    "    if num <= 1:\n",
    "        print('Not a Prime Number')\n",
    "        return False\n",
    "\n",
    "    for i in range(2, int(num ** .5) + 1): \n",
    "        if num % i == 0:\n",
    "# this function make the root of the given number and then add 1 to it to find range between 2 to that number. and then do the modulus between given number and range number one by one and check if it is not zero then it is prime \n",
    "            print('Not a Prime Number')\n",
    "            return False\n",
    "\n",
    "    print(\"Prime Number\")\n",
    "    return True\n",
    "input_value =int(input(\"Enter the value to check if it is prime or not. . . . . . \"))\n",
    "prime_or_not(input_value)"
   ]
  },
  {
   "cell_type": "raw",
   "metadata": {
    "collapsed": true,
    "jupyter": {
     "outputs_hidden": true
    }
   },
   "source": [
    "Q14. Write a program which can compute the factorial of a given numbers. \n",
    "#   The results should be printed in a comma-separated sequence on a single line. \n",
    "# input() function can be used for getting user(console) input\n",
    "\n",
    "\n",
    "#Suppose the input is supplied to the program:  8  \n",
    "#Then, the output should be:  40320 \n",
    "#Hints: In case of input data being supplied to the question, it should be assumed to be a console input. \n"
   ]
  },
  {
   "cell_type": "code",
   "execution_count": 17,
   "metadata": {
    "scrolled": true
   },
   "outputs": [
    {
     "name": "stdin",
     "output_type": "stream",
     "text": [
      "Enter the Number.... 12\n"
     ]
    },
    {
     "name": "stdout",
     "output_type": "stream",
     "text": [
      "The factorial of the 12 is 479001600,"
     ]
    }
   ],
   "source": [
    "# factorial of the given number i.e. N!  \n",
    "\n",
    "def factorial(num):\n",
    "    if num == 0 :\n",
    "        return 1\n",
    "    fac =1\n",
    "    for i in range(1,num+1):\n",
    "         fac *= i\n",
    "    return fac\n",
    "number = int(input(\"Enter the Number....\"))\n",
    "result  = factorial(number)\n",
    "print(f\"The factorial of the {number} is {result}\", end = \",\")"
   ]
  },
  {
   "cell_type": "raw",
   "metadata": {
    "collapsed": true,
    "jupyter": {
     "outputs_hidden": true
    }
   },
   "source": [
    "Q15. With a given integral number n, write a program to generate a dictionary that contains (i, i*i) such that is an integral number between 1 and n (both included). and then the program should print the dictionary.\n",
    "\n",
    "#Suppose the following input is supplied to the program: 8\n",
    "#Then, the output should be: {1: 1, 2: 4, 3: 9, 4: 16, 5: 25, 6: 36, 7: 49, 8: 64}\n",
    "#Hints: In case of input data being supplied to the question, it should be assumed to be a console input. Consider using dict()\n",
    "\n"
   ]
  },
  {
   "cell_type": "code",
   "execution_count": 18,
   "metadata": {},
   "outputs": [
    {
     "name": "stdin",
     "output_type": "stream",
     "text": [
      "Enter the  num 12\n"
     ]
    },
    {
     "name": "stdout",
     "output_type": "stream",
     "text": [
      "The dictionary needed : {1: 1, 2: 4, 3: 9, 4: 16, 5: 25, 6: 36, 7: 49, 8: 64, 9: 81, 10: 100, 11: 121, 12: 144}\n"
     ]
    }
   ],
   "source": [
    "def dic_genrator(x):\n",
    "\n",
    "    num={}\n",
    "    for i in range (1,number+1):\n",
    "        num[i] = i*i\n",
    "    return num\n",
    "\n",
    "number = int(input(\"Enter the  num\"))\n",
    "result = dic_genrator(number)\n",
    "print(\"The dictionary needed :\", result) "
   ]
  },
  {
   "cell_type": "raw",
   "metadata": {
    "collapsed": true,
    "jupyter": {
     "outputs_hidden": true
    }
   },
   "source": [
    "Q16. Write a program which accepts a sequence of comma-separated numbers from console and generate a list and a tuple which contains every number.\n",
    "#Suppose the following input is supplied to the program: 34,67,55,33,12,98\n",
    "    #Then, the output should be: ['34', '67', '55', '33', '12', '98'] ('34', '67', '55', '33', '12', '98')\n",
    "\n",
    "#Hints: In case of input data being supplied to the question, it should be assumed to be a console input. you may use tuple() method to convert list to tuple\n"
   ]
  },
  {
   "cell_type": "code",
   "execution_count": 19,
   "metadata": {},
   "outputs": [
    {
     "name": "stdin",
     "output_type": "stream",
     "text": [
      "Enter more than one Number to put it in the list and tuple : 1,2,3,4,5,6,7,8,9\n"
     ]
    },
    {
     "name": "stdout",
     "output_type": "stream",
     "text": [
      "list:  [1, 2, 3, 4, 5, 6, 7, 8, 9]\n",
      "tuple:  (1, 2, 3, 4, 5, 6, 7, 8, 9)\n"
     ]
    }
   ],
   "source": [
    "def print_list_tuple(str_num):\n",
    "    my_list = [int(num) for num in str_num.split(\",\")]\n",
    "    my_tuple = tuple(my_list)\n",
    "    return my_list , my_tuple\n",
    "\n",
    "number = input(\"Enter more than one Number to put it in the list and tuple :\")\n",
    "result1,result2 = print_list_tuple(number)\n",
    "print(\"list: \",result1)\n",
    "print(\"tuple: \",result2)"
   ]
  },
  {
   "cell_type": "raw",
   "metadata": {
    "collapsed": true,
    "jupyter": {
     "outputs_hidden": true
    }
   },
   "source": [
    "Q17. Write a program that accepts a comma separated sequence of words as input and \n",
    "# prints the words in a comma-separated sequence after sorting them alphabetically.\n",
    "\n",
    "# Suppose the following input is supplied to the program: without,hello,bag,world\n",
    "# Then, the output should be: bag,hello,without,world\n",
    "\n",
    "#Hints: In case of input data being supplied to the question, it should be assumed to be a console input.\n"
   ]
  },
  {
   "cell_type": "code",
   "execution_count": 21,
   "metadata": {},
   "outputs": [
    {
     "name": "stdin",
     "output_type": "stream",
     "text": [
      "Enter the  comma-separated sequence word list . . . . .  ashu, pahal , hai , tu\n"
     ]
    },
    {
     "name": "stdout",
     "output_type": "stream",
     "text": [
      " The Comma-Separated Sequence After Sorting Them Alphabetically [' hai ', ' pahal ', ' tu', 'ashu']\n"
     ]
    }
   ],
   "source": [
    "def sort_word_list(word_str):\n",
    "    word_list =word_str.split(\",\")\n",
    "    sorted_list =  sorted(word_list)\n",
    "    return sorted_list\n",
    "\n",
    "words = input(\"Enter the  comma-separated sequence word list . . . . . \")\n",
    "result = sort_word_list(words)\n",
    "print(\" The Comma-Separated Sequence After Sorting Them Alphabetically\",result)"
   ]
  },
  {
   "cell_type": "raw",
   "metadata": {
    "collapsed": true,
    "jupyter": {
     "outputs_hidden": true
    }
   },
   "source": [
    "Q18. Write a program that accepts a sequence of whitespace separated words \n",
    "# as input and prints the words after removing all duplicate words and sorting them alphanumerically.\n",
    "# Suppose the following input is supplied to the program: hello world and practice makes perfect and hello world again\n",
    "# Then, the output should be: again and hello makes perfect practice world\n",
    "\n",
    "#Hints: In case of input data being supplied to the question, it should be assumed to be a console input.\n",
    "#We use set container to remove duplicated data automatically and then use sorted() to sort the data.\n"
   ]
  },
  {
   "cell_type": "code",
   "execution_count": 22,
   "metadata": {},
   "outputs": [
    {
     "name": "stdin",
     "output_type": "stream",
     "text": [
      "Enter the word list . . . . .  ashutosh bansal ashu agraval\n"
     ]
    },
    {
     "name": "stdout",
     "output_type": "stream",
     "text": [
      " Words After Removing Duplicates and Sorting: ['agraval', 'ashu', 'ashutosh', 'bansal']\n"
     ]
    }
   ],
   "source": [
    "def sort_word_list(word_str):\n",
    "    word_list =set(word_str.split(\" \"))\n",
    "    sorted_list =  sorted(word_list)\n",
    "    return sorted_list\n",
    "\n",
    "words = input(\"Enter the word list . . . . . \")\n",
    "result = sort_word_list(words)\n",
    "print(\" Words After Removing Duplicates and Sorting:\",result)"
   ]
  },
  {
   "cell_type": "raw",
   "metadata": {
    "collapsed": true,
    "jupyter": {
     "outputs_hidden": true
    }
   },
   "source": [
    "Q19. Write a program that accepts a sentence and calculate the number of upper case \n",
    "# letters and lower case letters.\n",
    "#Suppose the following input is supplied to the program: Hello world!\n",
    "#Then, the output should be: UPPER CASE 1 LOWER CASE 9\n",
    "\n",
    "#Hints: In case of input data being supplied to the question, it should be assumed to be a console input.\n"
   ]
  },
  {
   "cell_type": "code",
   "execution_count": 75,
   "metadata": {},
   "outputs": [
    {
     "name": "stdin",
     "output_type": "stream",
     "text": [
      "Enter the word  . . . . .  AshutosHBansAl\n"
     ]
    },
    {
     "name": "stdout",
     "output_type": "stream",
     "text": [
      " UPPER CASE: 4 LOWER CASE: 10\n"
     ]
    }
   ],
   "source": [
    "def count_upper_lower(word_str):\n",
    "    count_upper= 0\n",
    "    count_lower =0\n",
    "    for i in word_str:\n",
    "       if i.isupper():\n",
    "           count_upper +=1\n",
    "       else: count_lower +=1\n",
    "    return count_upper,count_lower\n",
    "\n",
    "words = input(\"Enter the word  . . . . . \")\n",
    "result_upper, result_lower = count_upper_lower(words)\n",
    "print(f\" UPPER CASE: {result_upper} LOWER CASE: {result_lower}\")"
   ]
  },
  {
   "cell_type": "raw",
   "metadata": {
    "collapsed": true,
    "jupyter": {
     "outputs_hidden": true
    }
   },
   "source": [
    "Q20. Write a program that takes a string and returns reversed string. i.e. if input is \"abcd123\" output should be \"321dcba\""
   ]
  },
  {
   "cell_type": "code",
   "execution_count": 82,
   "metadata": {},
   "outputs": [
    {
     "name": "stdin",
     "output_type": "stream",
     "text": [
      "Enter the string to reverse .. . . . .  Ashutosh123\n"
     ]
    },
    {
     "name": "stdout",
     "output_type": "stream",
     "text": [
      "Orignal string: Ashutosh123\n",
      "Reverse string : 321hsotuhsA\n"
     ]
    }
   ],
   "source": [
    "def reverse_input(input_value):\n",
    "    result = input_value[::-1]\n",
    "    return result \n",
    "\n",
    "input_str = input(\"Enter the string to reverse .. . . . . \")\n",
    "result_str = reverse_input(input_str)\n",
    "print(f\"Orignal string: {input_str}\")\n",
    "print(f\"Reverse string : {result_str}\")"
   ]
  },
  {
   "cell_type": "code",
   "execution_count": null,
   "metadata": {},
   "outputs": [],
   "source": []
  }
 ],
 "metadata": {
  "kernelspec": {
   "display_name": "Python 3 (ipykernel)",
   "language": "python",
   "name": "python3"
  },
  "language_info": {
   "codemirror_mode": {
    "name": "ipython",
    "version": 3
   },
   "file_extension": ".py",
   "mimetype": "text/x-python",
   "name": "python",
   "nbconvert_exporter": "python",
   "pygments_lexer": "ipython3",
   "version": "3.11.7"
  },
  "varInspector": {
   "cols": {
    "lenName": 16,
    "lenType": 16,
    "lenVar": 40
   },
   "kernels_config": {
    "python": {
     "delete_cmd_postfix": "",
     "delete_cmd_prefix": "del ",
     "library": "var_list.py",
     "varRefreshCmd": "print(var_dic_list())"
    },
    "r": {
     "delete_cmd_postfix": ") ",
     "delete_cmd_prefix": "rm(",
     "library": "var_list.r",
     "varRefreshCmd": "cat(var_dic_list()) "
    }
   },
   "types_to_exclude": [
    "module",
    "function",
    "builtin_function_or_method",
    "instance",
    "_Feature"
   ],
   "window_display": false
  }
 },
 "nbformat": 4,
 "nbformat_minor": 4
}
